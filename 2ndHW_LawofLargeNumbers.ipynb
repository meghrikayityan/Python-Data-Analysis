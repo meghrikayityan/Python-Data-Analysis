{
 "cells": [
  {
   "cell_type": "markdown",
   "metadata": {},
   "source": [
    " # Here I will test the Low of Large Numbers (LLN) for N random normally distributed numbers with mean = 0, stdev =1\n",
    " \n",
    "# LLN = x̄n -> E(X) when n-> ∞ "
   ]
  },
  {
   "cell_type": "code",
   "execution_count": 1,
   "metadata": {},
   "outputs": [],
   "source": [
    "#Here I will test the Low of Large Numbers (LLN) for N random normally distributed numbers with mean = 0, stdev =1\n",
    "#LLN = x̄n -> E(X) when n-> ∞\n",
    "\n",
    "import numpy as np\n",
    "from numpy.random import randn"
   ]
  },
  {
   "cell_type": "markdown",
   "metadata": {},
   "source": [
    "# practicing functions"
   ]
  },
  {
   "cell_type": "code",
   "execution_count": 26,
   "metadata": {},
   "outputs": [
    {
     "name": "stdout",
     "output_type": "stream",
     "text": [
      "0\n",
      "2\n",
      "4\n",
      "6\n",
      "8\n",
      "10\n",
      "12\n",
      "14\n",
      "16\n",
      "18\n"
     ]
    }
   ],
   "source": [
    "#while LOOP\n",
    "\n",
    "x = 0\n",
    "while x < 20:\n",
    "    print(x)\n",
    "    x = x + 2"
   ]
  },
  {
   "cell_type": "code",
   "execution_count": 3,
   "metadata": {},
   "outputs": [
    {
     "name": "stdout",
     "output_type": "stream",
     "text": [
      "hallo! 0\n",
      "hallo! 1\n",
      "hallo! 2\n",
      "hallo! 3\n",
      "hallo! 4\n"
     ]
    }
   ],
   "source": [
    "#for loop\n",
    "\n",
    "for i in range(5):\n",
    "    print(\"hallo!\", i)"
   ]
  },
  {
   "cell_type": "code",
   "execution_count": 4,
   "metadata": {},
   "outputs": [
    {
     "name": "stdout",
     "output_type": "stream",
     "text": [
      "jj is:  10\n",
      "jj is:  100\n",
      "jj is:  100000\n"
     ]
    }
   ],
   "source": [
    "mylist = [10, 100, 100000]\n",
    "for jj in mylist:\n",
    "    print(\"jj is: \", jj)"
   ]
  },
  {
   "cell_type": "markdown",
   "metadata": {},
   "source": [
    "# testing LLN"
   ]
  },
  {
   "cell_type": "code",
   "execution_count": 25,
   "metadata": {},
   "outputs": [
    {
     "name": "stdout",
     "output_type": "stream",
     "text": [
      "6835\n",
      "0.6835\n"
     ]
    }
   ],
   "source": [
    "#Homework, Law of Large Numbers\n",
    "\n",
    "x = 0  # this is the counter of the numbers btw +1 -1\n",
    "N = 10000  #number of the random number generation\n",
    "for i in randn(10000):\n",
    "    if i >= -1 and i <= 1:\n",
    "        x = x + 1\n",
    "print(x)\n",
    "answer = x / N # to see the percentage\n",
    "print(answer)"
   ]
  },
  {
   "cell_type": "code",
   "execution_count": null,
   "metadata": {},
   "outputs": [],
   "source": [
    "# this shows how a data can be normally distributed (ca. 68% between -1 and 1) \n",
    "#if we increase the number of  random variables. randn(1000)"
   ]
  },
  {
   "cell_type": "code",
   "execution_count": null,
   "metadata": {},
   "outputs": [],
   "source": []
  }
 ],
 "metadata": {
  "kernelspec": {
   "display_name": "Python 3",
   "language": "python",
   "name": "python3"
  },
  "language_info": {
   "codemirror_mode": {
    "name": "ipython",
    "version": 3
   },
   "file_extension": ".py",
   "mimetype": "text/x-python",
   "name": "python",
   "nbconvert_exporter": "python",
   "pygments_lexer": "ipython3",
   "version": "3.7.3"
  }
 },
 "nbformat": 4,
 "nbformat_minor": 2
}
